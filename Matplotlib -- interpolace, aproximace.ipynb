{
 "metadata": {
  "name": "Matplotlib -- interpolace, aproximace"
 },
 "nbformat": 3,
 "nbformat_minor": 0,
 "worksheets": [
  {
   "cells": [
    {
     "cell_type": "markdown",
     "metadata": {},
     "source": [
      "Matplotlib -- interpolace, aproximace \n",
      "========================================"
     ]
    },
    {
     "cell_type": "code",
     "collapsed": false,
     "input": [],
     "language": "python",
     "metadata": {},
     "outputs": []
    }
   ],
   "metadata": {}
  }
 ]
}