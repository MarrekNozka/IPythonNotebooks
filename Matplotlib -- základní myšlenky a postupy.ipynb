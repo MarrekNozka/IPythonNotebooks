{
 "metadata": {
  "name": "Matplotlib -- z\u00e1kladn\u00ed my\u0161lenky a postupy"
 },
 "nbformat": 3,
 "nbformat_minor": 0,
 "worksheets": [
  {
   "cells": [
    {
     "cell_type": "markdown",
     "metadata": {},
     "source": [
      "Je\u0161t\u011b ne\u017e za\u010dnene ujist\u011bte se \u017ee v\u00edte, jak to funguje s \n",
      "[importem knihoven](http://hroch.spseol.cz/~nozka/python/matplotlib/#knihovnyazvislosti).\n",
      "\n",
      "Matplotlib -- z\u00e1kladn\u00ed my\u0161lenky a postupy\n",
      "==========================================\n",
      "\n",
      "Prvn\u00ed z\u00e1sadou, kterou si mus\u00edme osvojit je, \u017ee se v\u017edy pracuje se seznamem (\u0159adou) \u010d\u00edsel. \n",
      "Pracuje se s datov\u00fdm typem `numpy.array`."
     ]
    },
    {
     "cell_type": "code",
     "collapsed": false,
     "input": [
      "a = array([5,8,12,13,100,18,74])\n",
      "print a\n",
      "print \"max:\", a.max()\n",
      "print \"min: \", a.min()\n",
      "print u\"sou\u010det:\", a.sum()\n",
      "print u'd\u00e9kla:', a.size"
     ],
     "language": "python",
     "metadata": {},
     "outputs": [
      {
       "output_type": "stream",
       "stream": "stdout",
       "text": [
        "[  5   8  12  13 100  18  74]\n",
        "max: 100\n",
        "min:  5\n",
        "sou\u010det: 230\n",
        "d\u00e9kla: 7\n"
       ]
      }
     ],
     "prompt_number": 3
    },
    {
     "cell_type": "markdown",
     "metadata": {},
     "source": [
      "linspace\n",
      "-----------\n",
      "vytvo\u0159\u00ed \u0159adu \u010d\u00edsel tak, aby jich byl **po\u017eadovan\u00fd po\u010det**:"
     ]
    },
    {
     "cell_type": "code",
     "collapsed": false,
     "input": [
      "linspace(2,5,9)"
     ],
     "language": "python",
     "metadata": {},
     "outputs": [
      {
       "output_type": "pyout",
       "prompt_number": 2,
       "text": [
        "array([ 2.   ,  2.375,  2.75 ,  3.125,  3.5  ,  3.875,  4.25 ,  4.625,  5.   ])"
       ]
      },
      {
       "output_type": "stream",
       "stream": "stdout",
       "text": [
        "\n"
       ]
      }
     ],
     "prompt_number": 2
    },
    {
     "cell_type": "code",
     "collapsed": false,
     "input": [
      "linspace(0,5,4)"
     ],
     "language": "python",
     "metadata": {},
     "outputs": [
      {
       "output_type": "pyout",
       "prompt_number": 3,
       "text": [
        "array([ 0.        ,  1.66666667,  3.33333333,  5.        ])"
       ]
      }
     ],
     "prompt_number": 3
    },
    {
     "cell_type": "code",
     "collapsed": false,
     "input": [
      "linspace(0,1,20)"
     ],
     "language": "python",
     "metadata": {},
     "outputs": [
      {
       "output_type": "pyout",
       "prompt_number": 4,
       "text": [
        "array([ 0.        ,  0.05263158,  0.10526316,  0.15789474,  0.21052632,\n",
        "        0.26315789,  0.31578947,  0.36842105,  0.42105263,  0.47368421,\n",
        "        0.52631579,  0.57894737,  0.63157895,  0.68421053,  0.73684211,\n",
        "        0.78947368,  0.84210526,  0.89473684,  0.94736842,  1.        ])"
       ]
      }
     ],
     "prompt_number": 4
    },
    {
     "cell_type": "markdown",
     "metadata": {},
     "source": [
      "arange\n",
      "--------\n",
      "vytvo\u0159\u00ed \u0159adu \u010d\u00edsel, tak aby byl mezi nimi **po\u017eadovan\u00fd rozestup**. \n",
      "Z\u00e1rove\u0148 se \u010d\u00edslo, kter\u00e9 je uvedeno jako horn\u00ed mez v seznamu neob\u011bv\u00ed."
     ]
    },
    {
     "cell_type": "code",
     "collapsed": false,
     "input": [
      "arange(5)"
     ],
     "language": "python",
     "metadata": {},
     "outputs": [
      {
       "output_type": "pyout",
       "prompt_number": 5,
       "text": [
        "array([0, 1, 2, 3, 4])"
       ]
      }
     ],
     "prompt_number": 5
    },
    {
     "cell_type": "code",
     "collapsed": false,
     "input": [
      "arange(3,10)"
     ],
     "language": "python",
     "metadata": {},
     "outputs": [
      {
       "output_type": "pyout",
       "prompt_number": 6,
       "text": [
        "array([3, 4, 5, 6, 7, 8, 9])"
       ]
      }
     ],
     "prompt_number": 6
    },
    {
     "cell_type": "code",
     "collapsed": false,
     "input": [
      "arange(10,20,0.2)"
     ],
     "language": "python",
     "metadata": {},
     "outputs": [
      {
       "output_type": "pyout",
       "prompt_number": 7,
       "text": [
        "array([ 10. ,  10.2,  10.4,  10.6,  10.8,  11. ,  11.2,  11.4,  11.6,\n",
        "        11.8,  12. ,  12.2,  12.4,  12.6,  12.8,  13. ,  13.2,  13.4,\n",
        "        13.6,  13.8,  14. ,  14.2,  14.4,  14.6,  14.8,  15. ,  15.2,\n",
        "        15.4,  15.6,  15.8,  16. ,  16.2,  16.4,  16.6,  16.8,  17. ,\n",
        "        17.2,  17.4,  17.6,  17.8,  18. ,  18.2,  18.4,  18.6,  18.8,\n",
        "        19. ,  19.2,  19.4,  19.6,  19.8])"
       ]
      }
     ],
     "prompt_number": 7
    },
    {
     "cell_type": "markdown",
     "metadata": {},
     "source": [
      "zeros, ones\n",
      "-----\n",
      "vytvo\u0159\u00ed \u0159adu nul nebo jedni\u010dek. Nezd\u00e1 se to ale m\u016f\u017ee to b\u00fdt n\u011bkdy velice u\u017eite\u010dn\u00e9."
     ]
    },
    {
     "cell_type": "code",
     "collapsed": false,
     "input": [
      "zeros(5)"
     ],
     "language": "python",
     "metadata": {},
     "outputs": [
      {
       "output_type": "pyout",
       "prompt_number": 8,
       "text": [
        "array([ 0.,  0.,  0.,  0.,  0.])"
       ]
      }
     ],
     "prompt_number": 8
    },
    {
     "cell_type": "code",
     "collapsed": false,
     "input": [
      "ones(20)"
     ],
     "language": "python",
     "metadata": {},
     "outputs": [
      {
       "output_type": "pyout",
       "prompt_number": 9,
       "text": [
        "array([ 1.,  1.,  1.,  1.,  1.,  1.,  1.,  1.,  1.,  1.,  1.,  1.,  1.,\n",
        "        1.,  1.,  1.,  1.,  1.,  1.,  1.])"
       ]
      }
     ],
     "prompt_number": 9
    },
    {
     "cell_type": "markdown",
     "metadata": {},
     "source": [
      "Nejen v\u00fd\u0159ezy\n",
      "--------------\n",
      "\n",
      "S datov\u00fdm typpem `numpy.array` lze pracovat jako \n",
      "s [klasick\u00fdm python senzamem](http://geon.wz.cz/docs/node5.html#SECTION005140000000000000000), \n",
      "ale je mo\u017en\u00e9 prov\u00e1d\u011bt i mnohem \n",
      "[pokro\u010dilej\u0161\u00ed operace](http://wiki.scipy.org/Tentative_NumPy_Tutorial)."
     ]
    },
    {
     "cell_type": "code",
     "collapsed": false,
     "input": [
      "t=linspace(0,10,11)\n",
      "print t"
     ],
     "language": "python",
     "metadata": {},
     "outputs": [
      {
       "output_type": "stream",
       "stream": "stdout",
       "text": [
        "[  0.   1.   2.   3.   4.   5.   6.   7.   8.   9.  10.]\n"
       ]
      }
     ],
     "prompt_number": 10
    },
    {
     "cell_type": "code",
     "collapsed": false,
     "input": [
      "print t[1:5]"
     ],
     "language": "python",
     "metadata": {},
     "outputs": [
      {
       "output_type": "stream",
       "stream": "stdout",
       "text": [
        "[ 1.  2.  3.  4.]\n"
       ]
      }
     ],
     "prompt_number": 11
    },
    {
     "cell_type": "code",
     "collapsed": false,
     "input": [
      "print t[-1]\n",
      "print t[-2]\n",
      "print t[-3]"
     ],
     "language": "python",
     "metadata": {},
     "outputs": [
      {
       "output_type": "stream",
       "stream": "stdout",
       "text": [
        "10.0\n",
        "9.0\n",
        "8.0\n"
       ]
      }
     ],
     "prompt_number": 12
    },
    {
     "cell_type": "code",
     "collapsed": false,
     "input": [
      "print t[5:-3]"
     ],
     "language": "python",
     "metadata": {},
     "outputs": [
      {
       "output_type": "stream",
       "stream": "stdout",
       "text": [
        "[ 5.  6.  7.]\n"
       ]
      }
     ],
     "prompt_number": 13
    },
    {
     "cell_type": "markdown",
     "metadata": {},
     "source": [
      "Ve v\u00fd\u0159ezech lze prvky i p\u0159eskakovat:"
     ]
    },
    {
     "cell_type": "code",
     "collapsed": false,
     "input": [
      "t=arange(0,100,1)\n",
      "print t"
     ],
     "language": "python",
     "metadata": {},
     "outputs": [
      {
       "output_type": "stream",
       "stream": "stdout",
       "text": [
        "[ 0  1  2  3  4  5  6  7  8  9 10 11 12 13 14 15 16 17 18 19 20 21 22 23 24\n",
        " 25 26 27 28 29 30 31 32 33 34 35 36 37 38 39 40 41 42 43 44 45 46 47 48 49\n",
        " 50 51 52 53 54 55 56 57 58 59 60 61 62 63 64 65 66 67 68 69 70 71 72 73 74\n",
        " 75 76 77 78 79 80 81 82 83 84 85 86 87 88 89 90 91 92 93 94 95 96 97 98 99]\n"
       ]
      }
     ],
     "prompt_number": 14
    },
    {
     "cell_type": "code",
     "collapsed": false,
     "input": [
      "print t[0:20:3]"
     ],
     "language": "python",
     "metadata": {},
     "outputs": [
      {
       "output_type": "stream",
       "stream": "stdout",
       "text": [
        "[ 0  3  6  9 12 15 18]\n"
       ]
      }
     ],
     "prompt_number": 15
    },
    {
     "cell_type": "code",
     "collapsed": false,
     "input": [
      "print t[::9]"
     ],
     "language": "python",
     "metadata": {},
     "outputs": [
      {
       "output_type": "stream",
       "stream": "stdout",
       "text": [
        "[ 0  9 18 27 36 45 54 63 72 81 90 99]\n"
       ]
      }
     ],
     "prompt_number": 16
    },
    {
     "cell_type": "markdown",
     "metadata": {},
     "source": [
      "V\u00fd\u0159ez je mo\u017en\u00e9 pou\u017e\u00edt i k p\u0159i\u0159azen\u00ed:"
     ]
    },
    {
     "cell_type": "code",
     "collapsed": false,
     "input": [
      "t[::3]=0\n",
      "print t"
     ],
     "language": "python",
     "metadata": {},
     "outputs": [
      {
       "output_type": "stream",
       "stream": "stdout",
       "text": [
        "[ 0  1  2  0  4  5  0  7  8  0 10 11  0 13 14  0 16 17  0 19 20  0 22 23  0\n",
        " 25 26  0 28 29  0 31 32  0 34 35  0 37 38  0 40 41  0 43 44  0 46 47  0 49\n",
        " 50  0 52 53  0 55 56  0 58 59  0 61 62  0 64 65  0 67 68  0 70 71  0 73 74\n",
        "  0 76 77  0 79 80  0 82 83  0 85 86  0 88 89  0 91 92  0 94 95  0 97 98  0]\n"
       ]
      }
     ],
     "prompt_number": 17
    },
    {
     "cell_type": "code",
     "collapsed": false,
     "input": [
      "t[20:]=7\n",
      "print t"
     ],
     "language": "python",
     "metadata": {},
     "outputs": [
      {
       "output_type": "stream",
       "stream": "stdout",
       "text": [
        "[ 0  1  2  0  4  5  0  7  8  0 10 11  0 13 14  0 16 17  0 19  7  7  7  7  7\n",
        "  7  7  7  7  7  7  7  7  7  7  7  7  7  7  7  7  7  7  7  7  7  7  7  7  7\n",
        "  7  7  7  7  7  7  7  7  7  7  7  7  7  7  7  7  7  7  7  7  7  7  7  7  7\n",
        "  7  7  7  7  7  7  7  7  7  7  7  7  7  7  7  7  7  7  7  7  7  7  7  7  7]\n"
       ]
      }
     ],
     "prompt_number": 18
    },
    {
     "cell_type": "markdown",
     "metadata": {},
     "source": [
      "Pokud v\u00e1s to zaj\u00edm\u00e1 v\u00edc, pod\u00edvejte se na knihovnu [numexpr](http://code.google.com/p/numexpr/).\n",
      "\n",
      "Matematick\u00e9 funkce\n",
      "---------------------\n",
      "\n",
      "To co bychom v \u010dist\u00e9m Pythonu museli zdlouhav\u011b \u0159e\u0161it podm\u00edkami a vno\u0159en\u00fdmi cykly je pro `numpy.array` hra\u010dka: \n",
      "Pokud provedeme n\u011bjakou matematickou operaci, prov\u00e1d\u00ed se v\u017edy s dv\u011bma prvky, kter\u00e9 jsou v seznamech na stejn\u00e9 pozici. \n",
      "Nap\u0159\u00edklad u s\u010d\u00edt\u00e1n\u00ed se se\u010dte prvn\u00ed prvek s prvn\u00ed, druh\u00fd s druh\u00fdm, t\u0159et\u00ed s t\u0159et\u00edm atd."
     ]
    },
    {
     "cell_type": "code",
     "collapsed": false,
     "input": [
      "a=array([1.,2.,3.,4.])\n",
      "b=array([9.,8.,7.,6.])\n",
      "print a\n",
      "print b\n",
      "print a+b"
     ],
     "language": "python",
     "metadata": {},
     "outputs": [
      {
       "output_type": "stream",
       "stream": "stdout",
       "text": [
        "[ 1.  2.  3.  4.]\n",
        "[ 9.  8.  7.  6.]\n",
        "[ 10.  10.  10.  10.]\n"
       ]
      }
     ],
     "prompt_number": 19
    },
    {
     "cell_type": "code",
     "collapsed": false,
     "input": [
      "print a*b\n",
      "print a/b"
     ],
     "language": "python",
     "metadata": {},
     "outputs": [
      {
       "output_type": "stream",
       "stream": "stdout",
       "text": [
        "[  9.  16.  21.  24.]\n",
        "[ 0.11111111  0.25        0.42857143  0.66666667]\n"
       ]
      }
     ],
     "prompt_number": 20
    },
    {
     "cell_type": "code",
     "collapsed": false,
     "input": [
      "print a\n",
      "print a+10"
     ],
     "language": "python",
     "metadata": {},
     "outputs": [
      {
       "output_type": "stream",
       "stream": "stdout",
       "text": [
        "[ 1.  2.  3.  4.]\n",
        "[ 11.  12.  13.  14.]\n"
       ]
      }
     ],
     "prompt_number": 21
    },
    {
     "cell_type": "code",
     "collapsed": false,
     "input": [
      "print b\n",
      "print b*3"
     ],
     "language": "python",
     "metadata": {},
     "outputs": [
      {
       "output_type": "stream",
       "stream": "stdout",
       "text": [
        "[ 9.  8.  7.  6.]\n",
        "[ 27.  24.  21.  18.]\n"
       ]
      }
     ],
     "prompt_number": 22
    },
    {
     "cell_type": "code",
     "collapsed": false,
     "input": [
      "print a\n",
      "print a**2\n",
      "print a**3"
     ],
     "language": "python",
     "metadata": {},
     "outputs": [
      {
       "output_type": "stream",
       "stream": "stdout",
       "text": [
        "[ 1.  2.  3.  4.]\n",
        "[  1.   4.   9.  16.]\n",
        "[  1.   8.  27.  64.]\n"
       ]
      }
     ],
     "prompt_number": 23
    },
    {
     "cell_type": "markdown",
     "metadata": {},
     "source": [
      "Funguj\u00ed samoz\u0159ejm\u011b b\u011b\u017en\u00e9 matematick\u00e9 funkce: \n",
      "\n",
      "* `sin`\n",
      "* `cos`\n",
      "* `tan`\n",
      "* `log` -- p\u0159irozen\u00fd logaritmus\n",
      "* `log10` -- dekadick\u00fd logaritmus\n",
      "* `exp` -- exponenc\u00ed\u00e1ln\u00ed funkce\n",
      "\n",
      "Kreslen\u00ed\n",
      "-------------\n",
      "\n",
      "Pokud m\u00e1m \u0159adu hodnot na ose x a \u0159adu hodnot na ose y, m\u016f\u017eu je vin\u00e9st do sou\u0159adnicov\u00e9ho syst\u00e9mu.\n",
      "K tomuto \u00fa\u010delu slou\u017e\u00ed funkce `plot()`."
     ]
    },
    {
     "cell_type": "code",
     "collapsed": false,
     "input": [
      "x=linspace(0.1,4,20)\n",
      "y=exp(x)/6.\n",
      "z=log(x)\n",
      "s=5*sin(x)\n",
      "plot(x,y, 'x-',x,z, 'x-', x,s,'x-')\n",
      "grid()"
     ],
     "language": "python",
     "metadata": {},
     "outputs": [
      {
       "output_type": "display_data",
       "png": "[encoded data removed]"
      }
     ],
     "prompt_number": 17
    },
    {
     "cell_type": "code",
     "collapsed": false,
     "input": [],
     "language": "python",
     "metadata": {},
     "outputs": []
    }
   ],
   "metadata": {}
  }
 ]
}