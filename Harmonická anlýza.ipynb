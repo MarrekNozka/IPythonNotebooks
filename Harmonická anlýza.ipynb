{
 "metadata": {
  "name": "Harmonick\u00e1 anl\u00fdza"
 },
 "nbformat": 3,
 "nbformat_minor": 0,
 "worksheets": [
  {
   "cells": [
    {
     "cell_type": "markdown",
     "metadata": {},
     "source": [
      "Harmonick\u00e1 anal\u00fdza\n",
      "===================="
     ]
    },
    {
     "cell_type": "markdown",
     "metadata": {},
     "source": [
      "* demfinice konstant:"
     ]
    },
    {
     "cell_type": "code",
     "collapsed": true,
     "input": [
      "t=linspace(1,6,100)"
     ],
     "language": "python",
     "metadata": {},
     "outputs": [],
     "prompt_number": 3
    },
    {
     "cell_type": "code",
     "collapsed": true,
     "input": [],
     "language": "python",
     "metadata": {},
     "outputs": [],
     "prompt_number": 3
    },
    {
     "cell_type": "code",
     "collapsed": true,
     "input": [],
     "language": "python",
     "metadata": {},
     "outputs": [],
     "prompt_number": 3
    }
   ],
   "metadata": {}
  }
 ]
}